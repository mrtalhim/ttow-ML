{
  "nbformat": 4,
  "nbformat_minor": 0,
  "metadata": {
    "accelerator": "GPU",
    "colab": {
      "name": "wayang-mobilenet.ipynb",
      "provenance": [],
      "collapsed_sections": [],
      "include_colab_link": true
    },
    "kernelspec": {
      "display_name": "Python 3",
      "name": "python3"
    },
    "language_info": {
      "name": "python"
    }
  },
  "cells": [
    {
      "cell_type": "markdown",
      "metadata": {
        "id": "view-in-github",
        "colab_type": "text"
      },
      "source": [
        "<a href=\"https://colab.research.google.com/github/mrtalhim/ttow-ML/blob/main/wayang_mobilenet.ipynb\" target=\"_parent\"><img src=\"https://colab.research.google.com/assets/colab-badge.svg\" alt=\"Open In Colab\"/></a>"
      ]
    },
    {
      "cell_type": "markdown",
      "metadata": {
        "id": "kJdo0c_SN3tQ"
      },
      "source": [
        "Unzip the dataset. The dataset contains 4 classes and needs to be split into train and validation later."
      ]
    },
    {
      "cell_type": "code",
      "metadata": {
        "id": "kKt3WjQp6DN6"
      },
      "source": [
        "import os\n",
        "import zipfile\n",
        "\n",
        "# local_zip = '/content/wayang-new.zip'\n",
        "local_zip = '/content/wayang-edited-final.zip'\n",
        "# local_zip = '/content/wayang-final-dataset.zip'\n",
        "\n",
        "zip_ref = zipfile.ZipFile(local_zip, 'r')\n",
        "\n",
        "zip_ref.extractall('/content')\n",
        "zip_ref.close()"
      ],
      "execution_count": 54,
      "outputs": []
    },
    {
      "cell_type": "code",
      "metadata": {
        "id": "bCtSX_z56MO3"
      },
      "source": [
        "base_dir = '/content/augmented/'"
      ],
      "execution_count": 55,
      "outputs": []
    },
    {
      "cell_type": "code",
      "metadata": {
        "id": "o3WXVo3BL0BI"
      },
      "source": [
        "IMG_WIDTH = 175\n",
        "IMG_HEIGHT = 225\n",
        "\n",
        "IMG_SIZE = (IMG_WIDTH, IMG_HEIGHT)\n",
        "IMG_SHAPE = IMG_SIZE + (3,)"
      ],
      "execution_count": 4,
      "outputs": []
    },
    {
      "cell_type": "code",
      "metadata": {
        "id": "HZS6UIgBDVKp"
      },
      "source": [
        "import tensorflow as tf"
      ],
      "execution_count": 5,
      "outputs": []
    },
    {
      "cell_type": "code",
      "metadata": {
        "id": "DyYrl5gCPUeM"
      },
      "source": [
        "train_batch = 40\n",
        "train_epoch = 40\n",
        "val_batch = 10\n",
        "val_epoch = 10"
      ],
      "execution_count": 86,
      "outputs": []
    },
    {
      "cell_type": "code",
      "metadata": {
        "colab": {
          "base_uri": "https://localhost:8080/"
        },
        "id": "hJq_UNZ6ItiU",
        "outputId": "ce683c04-4af2-421e-c0b0-64be4997500c"
      },
      "source": [
        "from tensorflow.keras.preprocessing.image import ImageDataGenerator\n",
        "\n",
        "train_datagen = ImageDataGenerator(rescale = 1.0/255,\n",
        "                                   horizontal_flip = True,\n",
        "                                  #  width_shift_range = 0.1,\n",
        "                                  #  height_shift_range = 0.1,\n",
        "                                  #  fill_mode = 'nearest',\n",
        "                                  #  rotation_range=15,\n",
        "                                   zoom_range=0.2,\n",
        "                                   validation_split=0.2\n",
        "                                   )\n",
        "\n",
        "\n",
        "train_generator = train_datagen.flow_from_directory(base_dir,\n",
        "                                                    batch_size=train_batch,\n",
        "                                                    class_mode='categorical',\n",
        "                                                    target_size=(IMG_HEIGHT, IMG_WIDTH),\n",
        "                                                    shuffle=True,\n",
        "                                                    subset='training')     \n",
        "\n",
        "validation_generator =  train_datagen.flow_from_directory(base_dir,\n",
        "                                                         batch_size=val_batch,\n",
        "                                                         class_mode='categorical',\n",
        "                                                         target_size=(IMG_HEIGHT, IMG_WIDTH),\n",
        "                                                         shuffle=True,\n",
        "                                                         subset='validation')\n"
      ],
      "execution_count": 87,
      "outputs": [
        {
          "output_type": "stream",
          "name": "stdout",
          "text": [
            "Found 3575 images belonging to 4 classes.\n",
            "Found 893 images belonging to 4 classes.\n"
          ]
        }
      ]
    },
    {
      "cell_type": "markdown",
      "metadata": {
        "id": "ZMsP8lU4RmQQ"
      },
      "source": [
        "The following block will generate class labels, which will be useful for manual testing below"
      ]
    },
    {
      "cell_type": "code",
      "metadata": {
        "colab": {
          "base_uri": "https://localhost:8080/"
        },
        "id": "P8RF8wUm7meU",
        "outputId": "67838169-001c-4918-cf0a-090cbc378836"
      },
      "source": [
        "labels_dict = train_generator.class_indices\n",
        "# wayang_labels = dict((v, k) for k, v in labels_dict.items())\n",
        "wayang_labels = list(k for k, _ in labels_dict.items())\n",
        "print(wayang_labels)"
      ],
      "execution_count": 17,
      "outputs": [
        {
          "output_type": "stream",
          "name": "stdout",
          "text": [
            "['bagong', 'gareng', 'petruk', 'semar']\n"
          ]
        }
      ]
    },
    {
      "cell_type": "markdown",
      "metadata": {
        "id": "cwS3VMFF6DM_"
      },
      "source": [
        "Since we are working with imbalanced dataset, we will use class weights in the model. The dictionary used here are calculated from [this notebook](https://github.com/cavannus/ttow-ML/blob/main/data-augment.ipynb)."
      ]
    },
    {
      "cell_type": "code",
      "metadata": {
        "colab": {
          "base_uri": "https://localhost:8080/"
        },
        "id": "SoRIpLO54gAG",
        "outputId": "29602ea3-b0b8-41c8-d0ba-536e743b5199"
      },
      "source": [
        "class_weights = {0: 0.9147058823529411, 1: 1.4136363636363636, 2: 1.0798611111111112, 3: 0.7853535353535354}\n",
        "\n",
        "print(class_weights)"
      ],
      "execution_count": 14,
      "outputs": [
        {
          "output_type": "stream",
          "name": "stdout",
          "text": [
            "{0: 0.9147058823529411, 1: 1.4136363636363636, 2: 1.0798611111111112, 3: 0.7853535353535354}\n"
          ]
        }
      ]
    },
    {
      "cell_type": "markdown",
      "metadata": {
        "id": "sE05Y9LwOH87"
      },
      "source": [
        "This part defines the model used for transfer learning, which is MobileNetV2."
      ]
    },
    {
      "cell_type": "code",
      "metadata": {
        "colab": {
          "base_uri": "https://localhost:8080/"
        },
        "id": "Irn3yMPXL5FK",
        "outputId": "140b7ef7-9caf-40b9-b85f-9059a39d0277"
      },
      "source": [
        "base_model = tf.keras.applications.MobileNetV2(input_shape=IMG_SHAPE,\n",
        "                                               include_top=False,\n",
        "                                               weights='imagenet')\n",
        "# base_model.summary()"
      ],
      "execution_count": 97,
      "outputs": [
        {
          "output_type": "stream",
          "name": "stdout",
          "text": [
            "WARNING:tensorflow:`input_shape` is undefined or non-square, or `rows` is not in [96, 128, 160, 192, 224]. Weights for input shape (224, 224) will be loaded as the default.\n"
          ]
        }
      ]
    },
    {
      "cell_type": "markdown",
      "metadata": {
        "id": "SwOh1r_iOUW3"
      },
      "source": [
        "Fine tuning on MobileNet by unfreezing the first 25 layer of the model."
      ]
    },
    {
      "cell_type": "code",
      "metadata": {
        "id": "t9xFdTzAqeuF"
      },
      "source": [
        "base_model.trainable = True\n",
        "\n",
        "for layer in base_model.layers[:25]:\n",
        "  layer.trainable = False"
      ],
      "execution_count": 9,
      "outputs": []
    },
    {
      "cell_type": "code",
      "metadata": {
        "id": "HOKIyZErMpZ7"
      },
      "source": [
        "inputs = tf.keras.Input(shape=IMG_SHAPE)\n",
        "x = base_model(inputs, training=False)\n",
        "x = tf.keras.layers.GlobalAveragePooling2D()(x)\n",
        "x = tf.keras.layers.Dense(64)(x)\n",
        "x = tf.keras.layers.Dense(32)(x)\n",
        "x = tf.keras.layers.Dense(16)(x)\n",
        "outputs = tf.keras.layers.Dense(4, activation='softmax')(x)\n",
        "model = tf.keras.Model(inputs, outputs)"
      ],
      "execution_count": 98,
      "outputs": []
    },
    {
      "cell_type": "code",
      "metadata": {
        "colab": {
          "base_uri": "https://localhost:8080/"
        },
        "id": "6cI1_bJtNWT4",
        "outputId": "781ad315-f6de-489a-d7ab-18c6d417d27e"
      },
      "source": [
        "model.compile(optimizer=tf.keras.optimizers.Adam(learning_rate=4e-7),\n",
        "              loss='categorical_crossentropy',\n",
        "              metrics=['accuracy'])\n",
        "model.summary()"
      ],
      "execution_count": 99,
      "outputs": [
        {
          "output_type": "stream",
          "name": "stdout",
          "text": [
            "Model: \"model_7\"\n",
            "_________________________________________________________________\n",
            " Layer (type)                Output Shape              Param #   \n",
            "=================================================================\n",
            " input_16 (InputLayer)       [(None, 175, 225, 3)]     0         \n",
            "                                                                 \n",
            " mobilenetv2_1.00_224 (Funct  (None, 6, 8, 1280)       2257984   \n",
            " ional)                                                          \n",
            "                                                                 \n",
            " global_average_pooling2d_6   (None, 1280)             0         \n",
            " (GlobalAveragePooling2D)                                        \n",
            "                                                                 \n",
            " dense_30 (Dense)            (None, 64)                81984     \n",
            "                                                                 \n",
            " dense_31 (Dense)            (None, 32)                2080      \n",
            "                                                                 \n",
            " dense_32 (Dense)            (None, 16)                528       \n",
            "                                                                 \n",
            " dense_33 (Dense)            (None, 4)                 68        \n",
            "                                                                 \n",
            "=================================================================\n",
            "Total params: 2,342,644\n",
            "Trainable params: 2,308,532\n",
            "Non-trainable params: 34,112\n",
            "_________________________________________________________________\n"
          ]
        }
      ]
    },
    {
      "cell_type": "code",
      "metadata": {
        "id": "LCtyYi5nL3lS"
      },
      "source": [
        "class Acc_Callback(tf.keras.callbacks.Callback):\n",
        "  def on_epoch_end(self, epoch, logs):\n",
        "    if logs['accuracy'] > 0.95:\n",
        "      print('\\nAccuracy is more than 95%')\n",
        "      self.model.stop_training = True\n",
        "    elif logs['val_accuracy'] > 0.95:\n",
        "      print('\\nVal-Accuracy is more than 95%')\n",
        "      self.model.stop_training = True\n",
        "\n",
        "earlyStop = tf.keras.callbacks.EarlyStopping(monitor='accuracy', min_delta=1e-5, patience=5)\n",
        "\n",
        "callbacks = [Acc_Callback(),\n",
        "            #  earlyStop,\n",
        "             ]"
      ],
      "execution_count": 78,
      "outputs": []
    },
    {
      "cell_type": "code",
      "metadata": {
        "colab": {
          "base_uri": "https://localhost:8080/"
        },
        "id": "74db67YlJ8Rj",
        "outputId": "217a05ce-fe80-4798-aec2-e73180eae3f8"
      },
      "source": [
        "history = model.fit(train_generator,\n",
        "                    validation_data=validation_generator,\n",
        "                    steps_per_epoch=train_batch,\n",
        "                    epochs=train_epoch,\n",
        "                    validation_steps=val_epoch,\n",
        "                    verbose=2,\n",
        "                    callbacks=callbacks,\n",
        "                    # class_weight=class_weights\n",
        "                    )"
      ],
      "execution_count": 100,
      "outputs": [
        {
          "output_type": "stream",
          "name": "stdout",
          "text": [
            "Epoch 1/40\n",
            "40/40 - 22s - loss: 2.3716 - accuracy: 0.2590 - val_loss: 1.9199 - val_accuracy: 0.3100 - 22s/epoch - 554ms/step\n",
            "Epoch 2/40\n",
            "40/40 - 17s - loss: 1.7748 - accuracy: 0.2975 - val_loss: 1.7988 - val_accuracy: 0.2400 - 17s/epoch - 432ms/step\n",
            "Epoch 3/40\n",
            "40/40 - 17s - loss: 1.5875 - accuracy: 0.3308 - val_loss: 1.6777 - val_accuracy: 0.3100 - 17s/epoch - 429ms/step\n",
            "Epoch 4/40\n",
            "40/40 - 17s - loss: 1.5085 - accuracy: 0.3695 - val_loss: 1.4267 - val_accuracy: 0.4000 - 17s/epoch - 425ms/step\n",
            "Epoch 5/40\n",
            "40/40 - 17s - loss: 1.3981 - accuracy: 0.3963 - val_loss: 1.2787 - val_accuracy: 0.4300 - 17s/epoch - 435ms/step\n",
            "Epoch 6/40\n",
            "40/40 - 17s - loss: 1.3261 - accuracy: 0.4343 - val_loss: 1.3164 - val_accuracy: 0.4400 - 17s/epoch - 430ms/step\n",
            "Epoch 7/40\n",
            "40/40 - 17s - loss: 1.2754 - accuracy: 0.4508 - val_loss: 1.3534 - val_accuracy: 0.4200 - 17s/epoch - 424ms/step\n",
            "Epoch 8/40\n",
            "40/40 - 17s - loss: 1.2095 - accuracy: 0.4787 - val_loss: 1.4485 - val_accuracy: 0.3500 - 17s/epoch - 432ms/step\n",
            "Epoch 9/40\n",
            "40/40 - 17s - loss: 1.1399 - accuracy: 0.5100 - val_loss: 1.2461 - val_accuracy: 0.4900 - 17s/epoch - 435ms/step\n",
            "Epoch 10/40\n",
            "40/40 - 17s - loss: 1.0786 - accuracy: 0.5562 - val_loss: 1.2626 - val_accuracy: 0.5300 - 17s/epoch - 432ms/step\n",
            "Epoch 11/40\n",
            "40/40 - 17s - loss: 1.0259 - accuracy: 0.5752 - val_loss: 1.0855 - val_accuracy: 0.5200 - 17s/epoch - 427ms/step\n",
            "Epoch 12/40\n",
            "40/40 - 17s - loss: 0.9989 - accuracy: 0.5888 - val_loss: 1.1112 - val_accuracy: 0.4800 - 17s/epoch - 432ms/step\n",
            "Epoch 13/40\n",
            "40/40 - 17s - loss: 0.9181 - accuracy: 0.6300 - val_loss: 0.9839 - val_accuracy: 0.6400 - 17s/epoch - 433ms/step\n",
            "Epoch 14/40\n",
            "40/40 - 17s - loss: 0.9083 - accuracy: 0.6375 - val_loss: 0.9309 - val_accuracy: 0.5900 - 17s/epoch - 433ms/step\n",
            "Epoch 15/40\n",
            "40/40 - 17s - loss: 0.8550 - accuracy: 0.6650 - val_loss: 0.8648 - val_accuracy: 0.5700 - 17s/epoch - 437ms/step\n",
            "Epoch 16/40\n",
            "40/40 - 17s - loss: 0.8275 - accuracy: 0.6762 - val_loss: 0.9297 - val_accuracy: 0.5800 - 17s/epoch - 431ms/step\n",
            "Epoch 17/40\n",
            "40/40 - 17s - loss: 0.7897 - accuracy: 0.6908 - val_loss: 0.9703 - val_accuracy: 0.6100 - 17s/epoch - 428ms/step\n",
            "Epoch 18/40\n",
            "40/40 - 17s - loss: 0.7406 - accuracy: 0.7106 - val_loss: 0.8899 - val_accuracy: 0.6900 - 17s/epoch - 433ms/step\n",
            "Epoch 19/40\n",
            "40/40 - 17s - loss: 0.7256 - accuracy: 0.7256 - val_loss: 0.7467 - val_accuracy: 0.7200 - 17s/epoch - 433ms/step\n",
            "Epoch 20/40\n",
            "40/40 - 17s - loss: 0.6916 - accuracy: 0.7487 - val_loss: 0.7942 - val_accuracy: 0.7700 - 17s/epoch - 437ms/step\n",
            "Epoch 21/40\n",
            "40/40 - 17s - loss: 0.6697 - accuracy: 0.7530 - val_loss: 0.6821 - val_accuracy: 0.7600 - 17s/epoch - 427ms/step\n",
            "Epoch 22/40\n",
            "40/40 - 17s - loss: 0.6642 - accuracy: 0.7543 - val_loss: 0.8337 - val_accuracy: 0.6600 - 17s/epoch - 428ms/step\n",
            "Epoch 23/40\n",
            "40/40 - 17s - loss: 0.6224 - accuracy: 0.7854 - val_loss: 0.8244 - val_accuracy: 0.6700 - 17s/epoch - 425ms/step\n",
            "Epoch 24/40\n",
            "40/40 - 17s - loss: 0.6110 - accuracy: 0.7862 - val_loss: 0.6535 - val_accuracy: 0.7800 - 17s/epoch - 432ms/step\n",
            "Epoch 25/40\n",
            "40/40 - 17s - loss: 0.5703 - accuracy: 0.7956 - val_loss: 0.7057 - val_accuracy: 0.7300 - 17s/epoch - 432ms/step\n",
            "Epoch 26/40\n",
            "40/40 - 17s - loss: 0.5442 - accuracy: 0.8095 - val_loss: 0.7454 - val_accuracy: 0.7200 - 17s/epoch - 428ms/step\n",
            "Epoch 27/40\n",
            "40/40 - 17s - loss: 0.5183 - accuracy: 0.8338 - val_loss: 0.7039 - val_accuracy: 0.7300 - 17s/epoch - 433ms/step\n",
            "Epoch 28/40\n",
            "40/40 - 17s - loss: 0.5172 - accuracy: 0.8156 - val_loss: 0.7186 - val_accuracy: 0.7000 - 17s/epoch - 431ms/step\n",
            "Epoch 29/40\n",
            "40/40 - 17s - loss: 0.4917 - accuracy: 0.8300 - val_loss: 0.7302 - val_accuracy: 0.7000 - 17s/epoch - 431ms/step\n",
            "Epoch 30/40\n",
            "40/40 - 17s - loss: 0.4977 - accuracy: 0.8338 - val_loss: 0.7332 - val_accuracy: 0.7200 - 17s/epoch - 434ms/step\n",
            "Epoch 31/40\n",
            "40/40 - 17s - loss: 0.4770 - accuracy: 0.8406 - val_loss: 0.6020 - val_accuracy: 0.8300 - 17s/epoch - 432ms/step\n",
            "Epoch 32/40\n",
            "40/40 - 17s - loss: 0.4424 - accuracy: 0.8537 - val_loss: 0.7103 - val_accuracy: 0.7400 - 17s/epoch - 433ms/step\n",
            "Epoch 33/40\n",
            "40/40 - 17s - loss: 0.4300 - accuracy: 0.8597 - val_loss: 0.5427 - val_accuracy: 0.8400 - 17s/epoch - 427ms/step\n",
            "Epoch 34/40\n",
            "40/40 - 17s - loss: 0.4298 - accuracy: 0.8590 - val_loss: 0.6319 - val_accuracy: 0.7200 - 17s/epoch - 429ms/step\n",
            "Epoch 35/40\n",
            "40/40 - 17s - loss: 0.4139 - accuracy: 0.8662 - val_loss: 0.6199 - val_accuracy: 0.6900 - 17s/epoch - 436ms/step\n",
            "Epoch 36/40\n",
            "40/40 - 17s - loss: 0.4049 - accuracy: 0.8705 - val_loss: 0.6802 - val_accuracy: 0.7300 - 17s/epoch - 427ms/step\n",
            "Epoch 37/40\n",
            "40/40 - 17s - loss: 0.3853 - accuracy: 0.8794 - val_loss: 0.4992 - val_accuracy: 0.8300 - 17s/epoch - 433ms/step\n",
            "Epoch 38/40\n",
            "40/40 - 17s - loss: 0.3960 - accuracy: 0.8687 - val_loss: 0.5495 - val_accuracy: 0.8100 - 17s/epoch - 434ms/step\n",
            "Epoch 39/40\n",
            "40/40 - 17s - loss: 0.3665 - accuracy: 0.8881 - val_loss: 0.5291 - val_accuracy: 0.7800 - 17s/epoch - 433ms/step\n",
            "Epoch 40/40\n",
            "40/40 - 17s - loss: 0.3681 - accuracy: 0.8768 - val_loss: 0.5517 - val_accuracy: 0.7800 - 17s/epoch - 427ms/step\n"
          ]
        }
      ]
    },
    {
      "cell_type": "markdown",
      "metadata": {
        "id": "hRReVZE8S_b8"
      },
      "source": [
        "Plot the accuracy and loss form training"
      ]
    },
    {
      "cell_type": "code",
      "metadata": {
        "colab": {
          "base_uri": "https://localhost:8080/",
          "height": 562
        },
        "id": "lp-p-wlHLG7Y",
        "outputId": "f6394ff2-0694-4ab1-d062-22cbc223b372"
      },
      "source": [
        "import matplotlib.pyplot as plt\n",
        "\n",
        "acc = history.history['accuracy']\n",
        "val_acc = history.history['val_accuracy']\n",
        "loss = history.history['loss']\n",
        "val_loss = history.history['val_loss']\n",
        "\n",
        "epochs = range(len(acc))\n",
        "\n",
        "plt.plot(epochs, acc)\n",
        "plt.plot(epochs, val_acc)\n",
        "plt.title('Training and validation accuracy')\n",
        "plt.figure()\n",
        "\n",
        "plt.plot(epochs, loss)\n",
        "plt.plot(epochs, val_loss)\n",
        "plt.title ('Training and validation loss')"
      ],
      "execution_count": 101,
      "outputs": [
        {
          "output_type": "execute_result",
          "data": {
            "text/plain": [
              "Text(0.5, 1.0, 'Training and validation loss')"
            ]
          },
          "metadata": {},
          "execution_count": 101
        },
        {
          "output_type": "display_data",
          "data": {
            "image/png": "[encoded data removed]",
            "text/plain": [
              "<Figure size 432x288 with 1 Axes>"
            ]
          },
          "metadata": {
            "needs_background": "light"
          }
        },
        {
          "output_type": "display_data",
          "data": {
            "image/png": "[encoded data removed]",
            "text/plain": [
              "<Figure size 432x288 with 1 Axes>"
            ]
          },
          "metadata": {
            "needs_background": "light"
          }
        }
      ]
    },
    {
      "cell_type": "code",
      "source": [
        "from sklearn.metrics import classification_report, confusion_matrix\n",
        "import numpy as np\n",
        "\n",
        "Y_pred = model.predict_generator(validation_generator, 893 // val_batch+1)\n",
        "y_pred = np.argmax(Y_pred, axis=1)\n",
        "cf_matrix = confusion_matrix(validation_generator.classes, y_pred)\n",
        "print('Confusion Matrix')\n",
        "print(cf_matrix)\n",
        "print('Classification Report')\n",
        "target_names = wayang_labels\n",
        "print(classification_report(validation_generator.classes, y_pred, target_names=target_names))"
      ],
      "metadata": {
        "id": "g4k8-SBU4m-s",
        "outputId": "004f648f-c20e-433e-e68d-43bfff4278eb",
        "colab": {
          "base_uri": "https://localhost:8080/"
        }
      },
      "execution_count": 102,
      "outputs": [
        {
          "output_type": "stream",
          "name": "stderr",
          "text": [
            "/usr/local/lib/python3.7/dist-packages/ipykernel_launcher.py:4: UserWarning: `Model.predict_generator` is deprecated and will be removed in a future version. Please use `Model.predict`, which supports generators.\n",
            "  after removing the cwd from sys.path.\n"
          ]
        },
        {
          "output_type": "stream",
          "name": "stdout",
          "text": [
            "Confusion Matrix\n",
            "[[34 64 52 58]\n",
            " [42 53 64 65]\n",
            " [36 73 55 56]\n",
            " [48 64 51 78]]\n",
            "Classification Report\n",
            "              precision    recall  f1-score   support\n",
            "\n",
            "      bagong       0.21      0.16      0.18       208\n",
            "      gareng       0.21      0.24      0.22       224\n",
            "      petruk       0.25      0.25      0.25       220\n",
            "       semar       0.30      0.32      0.31       241\n",
            "\n",
            "    accuracy                           0.25       893\n",
            "   macro avg       0.24      0.24      0.24       893\n",
            "weighted avg       0.24      0.25      0.24       893\n",
            "\n"
          ]
        }
      ]
    },
    {
      "cell_type": "code",
      "source": [
        "import seaborn as sns\n",
        "sns.heatmap(cf_matrix / np.sum(cf_matrix),\n",
        "            annot=True,\n",
        "            fmt = '.2%',\n",
        "            cbar = False,)"
      ],
      "metadata": {
        "id": "2JWxy21QX_3a",
        "outputId": "843af9fb-f472-4856-ff67-c5f5011bd18e",
        "colab": {
          "base_uri": "https://localhost:8080/",
          "height": 282
        }
      },
      "execution_count": 103,
      "outputs": [
        {
          "output_type": "execute_result",
          "data": {
            "text/plain": [
              "<matplotlib.axes._subplots.AxesSubplot at 0x7f87473f3350>"
            ]
          },
          "metadata": {},
          "execution_count": 103
        },
        {
          "output_type": "display_data",
          "data": {
            "image/png": "[encoded data removed]",
            "text/plain": [
              "<Figure size 432x288 with 1 Axes>"
            ]
          },
          "metadata": {
            "needs_background": "light"
          }
        }
      ]
    },
    {
      "cell_type": "code",
      "metadata": {
        "id": "CU-v_VGjLA0w"
      },
      "source": [
        "import numpy as np\n",
        "import os\n",
        "from google.colab import files\n",
        "from keras.preprocessing import image\n",
        "\n",
        "uploaded = files.upload()\n",
        "\n",
        "for fn in uploaded.keys():\n",
        "  path = '/content/uploaded-test/' + fn\n",
        "  uploaded_path = '/content/' + fn\n",
        "  os.replace(uploaded_path, path)\n",
        "  img = image.load_img(path, target_size=(IMG_WIDTH, IMG_HEIGHT))\n",
        "  \n",
        "  x = image.img_to_array(img)\n",
        "  x = np.expand_dims(x, axis=0)\n",
        "  images = np.vstack([x])\n",
        "  \n",
        "  classes_pred = model.predict(images, batch_size=10)\n",
        "  wayang_class = np.argmax(classes_pred)\n",
        "\n",
        "  print('{} is {}'.format(fn, wayang_labels[wayang_class]))\n",
        "  print(classes_pred)"
      ],
      "execution_count": null,
      "outputs": []
    },
    {
      "cell_type": "markdown",
      "metadata": {
        "id": "CynU25_eSdZq"
      },
      "source": [
        "This following blocks are for testing purposes"
      ]
    },
    {
      "cell_type": "code",
      "metadata": {
        "id": "vmRK5IfGcfsV"
      },
      "source": [
        "test_zip = '/content/wayang-test.zip'\n",
        "\n",
        "zip_ref = zipfile.ZipFile(test_zip, 'r')\n",
        "\n",
        "zip_ref.extractall('/content')\n",
        "zip_ref.close()"
      ],
      "execution_count": null,
      "outputs": []
    },
    {
      "cell_type": "code",
      "metadata": {
        "colab": {
          "base_uri": "https://localhost:8080/"
        },
        "id": "Kw6bFoXjbhQE",
        "outputId": "88e087ee-3dfb-4333-96b2-3da0dc100d2a"
      },
      "source": [
        "test_dir = '/content/test'\n",
        "\n",
        "test_generator = train_datagen.flow_from_directory(test_dir,\n",
        "                                                   batch_size=1,\n",
        "                                                   class_mode='categorical',\n",
        "                                                   target_size=(IMG_HEIGHT, IMG_WIDTH)) "
      ],
      "execution_count": null,
      "outputs": [
        {
          "output_type": "stream",
          "text": [
            "Found 120 images belonging to 4 classes.\n"
          ],
          "name": "stdout"
        }
      ]
    },
    {
      "cell_type": "code",
      "metadata": {
        "colab": {
          "base_uri": "https://localhost:8080/"
        },
        "id": "KJiTx-9SdKBp",
        "outputId": "368f574b-5ac4-45c4-df61-f2d76237d694"
      },
      "source": [
        "model.evaluate(test_generator,\n",
        "               batch_size=1,\n",
        "               steps=120,\n",
        "               verbose=1)\n",
        "\n",
        "# model.evaluate(train_generator,\n",
        "#                batch_size=train_batch,\n",
        "#                steps=train_epoch,\n",
        "#                verbose=2)"
      ],
      "execution_count": null,
      "outputs": [
        {
          "output_type": "stream",
          "text": [
            "120/120 [==============================] - 1s 8ms/step - loss: 0.0411 - accuracy: 1.0000\n"
          ],
          "name": "stdout"
        },
        {
          "output_type": "execute_result",
          "data": {
            "text/plain": [
              "[0.04113634675741196, 1.0]"
            ]
          },
          "metadata": {
            "tags": []
          },
          "execution_count": 198
        }
      ]
    },
    {
      "cell_type": "markdown",
      "metadata": {
        "id": "NzNmIquQSkkJ"
      },
      "source": [
        "The compiled model are converted into TFLite model, then saved into the system's directory."
      ]
    },
    {
      "cell_type": "code",
      "metadata": {
        "colab": {
          "base_uri": "https://localhost:8080/"
        },
        "id": "KcVGMktNZ_NV",
        "outputId": "401af54f-02b9-41c5-8326-e6620be813e4"
      },
      "source": [
        "modelBaseName = 'wayang-mobilenet-v4'\n",
        "modelTFLite = modelBaseName + '.tflite'\n",
        "converter = tf.lite.TFLiteConverter.from_keras_model(model)\n",
        "tflite_model = converter.convert()\n",
        "\n",
        "# Save the model.\n",
        "with open(modelTFLite, 'wb') as f:\n",
        "  f.write(tflite_model)"
      ],
      "execution_count": 104,
      "outputs": [
        {
          "output_type": "stream",
          "name": "stdout",
          "text": [
            "INFO:tensorflow:Assets written to: /tmp/tmprwf5opks/assets\n"
          ]
        },
        {
          "output_type": "stream",
          "name": "stderr",
          "text": [
            "WARNING:absl:Buffer deduplication procedure will be skipped when flatbuffer library is not properly loaded\n"
          ]
        }
      ]
    },
    {
      "cell_type": "markdown",
      "metadata": {
        "id": "o45ZLY4WSyBX"
      },
      "source": [
        "Download converted model into your local system"
      ]
    },
    {
      "cell_type": "code",
      "metadata": {
        "colab": {
          "base_uri": "https://localhost:8080/",
          "height": 17
        },
        "id": "BjwCn1wGmmJB",
        "outputId": "63cc025e-e0bf-4136-b9a1-9498ef8edcbb"
      },
      "source": [
        "from google.colab import files\n",
        "\n",
        "files.download(modelTFLite)"
      ],
      "execution_count": 105,
      "outputs": [
        {
          "output_type": "display_data",
          "data": {
            "application/javascript": [
              "\n",
              "    async function download(id, filename, size) {\n",
              "      if (!google.colab.kernel.accessAllowed) {\n",
              "        return;\n",
              "      }\n",
              "      const div = document.createElement('div');\n",
              "      const label = document.createElement('label');\n",
              "      label.textContent = `Downloading \"${filename}\": `;\n",
              "      div.appendChild(label);\n",
              "      const progress = document.createElement('progress');\n",
              "      progress.max = size;\n",
              "      div.appendChild(progress);\n",
              "      document.body.appendChild(div);\n",
              "\n",
              "      const buffers = [];\n",
              "      let downloaded = 0;\n",
              "\n",
              "      const channel = await google.colab.kernel.comms.open(id);\n",
              "      // Send a message to notify the kernel that we're ready.\n",
              "      channel.send({})\n",
              "\n",
              "      for await (const message of channel.messages) {\n",
              "        // Send a message to notify the kernel that we're ready.\n",
              "        channel.send({})\n",
              "        if (message.buffers) {\n",
              "          for (const buffer of message.buffers) {\n",
              "            buffers.push(buffer);\n",
              "            downloaded += buffer.byteLength;\n",
              "            progress.value = downloaded;\n",
              "          }\n",
              "        }\n",
              "      }\n",
              "      const blob = new Blob(buffers, {type: 'application/binary'});\n",
              "      const a = document.createElement('a');\n",
              "      a.href = window.URL.createObjectURL(blob);\n",
              "      a.download = filename;\n",
              "      div.appendChild(a);\n",
              "      a.click();\n",
              "      div.remove();\n",
              "    }\n",
              "  "
            ],
            "text/plain": [
              "<IPython.core.display.Javascript object>"
            ]
          },
          "metadata": {}
        },
        {
          "output_type": "display_data",
          "data": {
            "application/javascript": [
              "download(\"download_47280619-d244-44c4-b164-4d8fc8d7d985\", \"wayang-mobilenet-v4.tflite\", 9206780)"
            ],
            "text/plain": [
              "<IPython.core.display.Javascript object>"
            ]
          },
          "metadata": {}
        }
      ]
    }
  ]
}